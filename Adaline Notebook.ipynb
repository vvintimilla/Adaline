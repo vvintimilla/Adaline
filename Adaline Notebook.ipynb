{
 "cells": [
  {
   "cell_type": "markdown",
   "metadata": {},
   "source": [
    "<img src=\"ups.png\">"
   ]
  },
  {
   "cell_type": "markdown",
   "metadata": {},
   "source": [
    "# Red Neuronal Adaline \n",
    "\n",
    "\n",
    "## Introducción\n",
    "\n",
    "Las redes ADALINE (ADAptive LInear NEuron networks, ADAptive LINear Element) fueron desarrolladas en 1959 por Bernie Widrow poco después de que Rosenblatt desarrollara el Perceptrón.(Universidad Tecnológica de Pereira, 2000)\n",
    "\n",
    "\n",
    "\n",
    "## Descripción\n",
    "\n",
    "Esta neurona es similar al Perceptrón simple, pero utiliza como función de transferencia la función identidad en lugar de la función signo. La salida de la ADALINE es simplemente una función lineal de las entradas (ponderadas con los pesos sinápticos).\n",
    "\n",
    "Utiliza un aprendizaje off-line con supervisión denominado LMS o regla del mínimo error cuadrático medio, también denominado regla delta.\n",
    "Tiene una gran diferencia con el Perceptrón, la manera de utilizar la salida en la regla de aprendizaje, el Perceptrón utiliza la salida de la función umbral (binaria) para el aprendizaje. Solo se tiene en cuenta si se ha equivocado o no.\n",
    "\n"
   ]
  },
  {
   "cell_type": "markdown",
   "metadata": {},
   "source": [
    "<img src=\"1.png\">"
   ]
  },
  {
   "cell_type": "markdown",
   "metadata": {},
   "source": [
    "En Adaline se utiliza directamente la salida de la red (real) teniendo en cuenta cuánto se ha equivocado.\n",
    "\n",
    "### Estructura de la red ADALINE \n",
    "(Cortes & Cordoba, 2015)"
   ]
  },
  {
   "cell_type": "markdown",
   "metadata": {},
   "source": [
    "<img src=\"2.png\">"
   ]
  },
  {
   "cell_type": "markdown",
   "metadata": {},
   "source": [
    "La Salida está dada por:\n",
    "\n",
    "$$a = purelin(\\mathbf{W}_p + b) =\\mathbf{W}_p + b$$"
   ]
  },
  {
   "cell_type": "markdown",
   "metadata": {},
   "source": [
    "Para una red Adaline de una sola neurona con dos entradas la representación es la siguiente:"
   ]
  },
  {
   "cell_type": "markdown",
   "metadata": {
    "collapsed": true
   },
   "source": [
    "<img src=\"3.png\">"
   ]
  },
  {
   "cell_type": "markdown",
   "metadata": {},
   "source": [
    "En similitud con el Perceptrón, el límite de la característica de decisión para la red Adaline se presenta cuando n = 0, por lo tanto:\n",
    "\n",
    "\n",
    "$$w^{T} p + b = 0$$\n",
    "\n",
    "Específica la línea que separa en dos regiones el espacio de entrada, como se muestra en la siguiente gráfica:"
   ]
  },
  {
   "cell_type": "markdown",
   "metadata": {},
   "source": [
    "<img src=\"5.png\">"
   ]
  },
  {
   "cell_type": "markdown",
   "metadata": {},
   "source": [
    "La salida de la neurona es mayor que cero en el área gris, en el área blanca la salida es menor que cero.  Como se mencionó anteriormente, la red Adaline puede clasificar correctamente patrones linealmente separables en dos categorías.\n",
    "\n",
    "\n",
    "## Algoritmo de entrenamiento\n",
    "\n",
    "\n",
    "Adaline utiliza la regla Delta, y que se define, para un patrón de entrada $x^{p}$ con una salida estimada $y^{p}$ y una salida deseada $d^{p}$ , como  $d^{p}- y^{p}$.\n",
    "\n",
    "En donde define el error mediante la ecuación:\n",
    "\n",
    "$$E= \\frac{1}{2} \\sum_{p=1}^{m}(d^{p}-y^{p})^{2}$$\n",
    "\n",
    " \n",
    "La manera de reducir este error global es ir modificando los valores de los pesos al procesar cada entrada,\n",
    "\n",
    "\n",
    "$$E= \\frac{\\partial E}{\\mathbf{{\\partial W}}_j} = \\frac{\\partial E}{\\partial y} * \\frac{\\partial y}{\\mathbf{\\partial W}_j} = -(d-y)* \\mathbf{x}_j$$\n",
    "\n",
    "\n",
    "\n",
    "En donde se puede calcular el valor de la derivada respecto a cada peso:\n",
    "\n",
    "$${\\mathbf{W}_j} = {\\mathbf{W}_j} - γ * ∆{\\mathbf{W}_j} = {\\mathbf{W}_j} - γ*\\frac{\\partial E}{\\mathbf{\\partial W}_j}$$\n",
    "\n",
    "\n",
    "Y la modificación de los pesos quedaría dado por la expresión:\n",
    "\n",
    "$$∆{\\mathbf{W}_j}= γ*(d-y)*{\\mathbf{x}_j}$$\n",
    "\n",
    "El Algoritmo LMS o Regla Delta, logra minimizar el error cuadrático medio, desplazando las fronteras de decisión lejos de los patrones de entrenamiento.\n",
    "\n",
    "\n",
    "### Funcionamiento del algoritmo de aprendizaje\n",
    "\n",
    "\n",
    "1. Asigna valores aleatorios a los pesos ${\\mathbf{W}_i}$\n",
    "2. Aplica un vector de entrada para obtener una salida correspondiente:\n",
    "\n",
    "$$a = purelin(\\mathbf{W}_p + b) =\\mathbf{W}_p + b$$\n",
    "\n",
    "Realiza el cálculo del error mediante:  \n",
    "\n",
    "$$e= \\mathbf{t}_i-a$$\n",
    "\n",
    "3. Se actualizan los pesos: \n",
    "\n",
    "$$W^{nuevo}= W^{anterior}+2aep^{t}$$\n",
    "\n",
    "$$b^{nuevo}= b^{anterior}+2ae$$\n",
    "\n",
    "4. Repetimos los pasos del 1 al 3 con todos los vectores de entrada.\n",
    "\n",
    "5. Dependiendo de los resultados que se hubieren obtenido, se decide si se termina o se retorna al segundo paso.\n",
    "\n",
    "\n",
    "### Aplicaciones de la red ADALINE\n",
    "\n",
    "\n",
    "La red Adaline tiene varias aplicaciones, entre ellas están: (Cortes & Cordoba, 2015)\n",
    "\n",
    "1. Asociación de patrones: se puede aplicar a este tipo de problemas siempre que los patrones sean linealmente separables.\n",
    "2. Procesamiento de señales\n",
    "3. Filtros de ruido: Limpiar ruido de señales transmisoras de información.\n",
    "4. Filtros adaptativos: Un Adaline es capaz de predecir el valor de una señal en el instante t+1 si se conoce el valor de la misma en los p instantes anteriores (p es >0 y su valor depende del problema). El error de la predicción será mayor o menor según qué señal queramos predecir. Si la señal se corresponde a una serie temporal el Adaline, pasado un tiempo, será capaz de dar predicciones exactas.\n",
    "\n",
    "\n",
    "\n"
   ]
  },
  {
   "cell_type": "markdown",
   "metadata": {},
   "source": [
    "## Ejemplo Red Adaline con corpus Iris\n",
    "\n",
    "(A Machine Learning Craftsmanship Blog, 2017)\n"
   ]
  },
  {
   "cell_type": "code",
   "execution_count": 1,
   "metadata": {},
   "outputs": [],
   "source": [
    "import numpy as np\n",
    "from numpy.random import seed\n",
    "import pandas as pd\n",
    "import matplotlib.pyplot as plt\n",
    "from matplotlib.colors import ListedColormap"
   ]
  },
  {
   "cell_type": "code",
   "execution_count": 2,
   "metadata": {},
   "outputs": [
    {
     "data": {
      "text/html": [
       "<div>\n",
       "<style scoped>\n",
       "    .dataframe tbody tr th:only-of-type {\n",
       "        vertical-align: middle;\n",
       "    }\n",
       "\n",
       "    .dataframe tbody tr th {\n",
       "        vertical-align: top;\n",
       "    }\n",
       "\n",
       "    .dataframe thead th {\n",
       "        text-align: right;\n",
       "    }\n",
       "</style>\n",
       "<table border=\"1\" class=\"dataframe\">\n",
       "  <thead>\n",
       "    <tr style=\"text-align: right;\">\n",
       "      <th></th>\n",
       "      <th>0</th>\n",
       "      <th>1</th>\n",
       "      <th>2</th>\n",
       "      <th>3</th>\n",
       "      <th>4</th>\n",
       "    </tr>\n",
       "  </thead>\n",
       "  <tbody>\n",
       "    <tr>\n",
       "      <th>0</th>\n",
       "      <td>5.1</td>\n",
       "      <td>3.5</td>\n",
       "      <td>1.4</td>\n",
       "      <td>0.2</td>\n",
       "      <td>Iris-setosa</td>\n",
       "    </tr>\n",
       "    <tr>\n",
       "      <th>1</th>\n",
       "      <td>4.9</td>\n",
       "      <td>3.0</td>\n",
       "      <td>1.4</td>\n",
       "      <td>0.2</td>\n",
       "      <td>Iris-setosa</td>\n",
       "    </tr>\n",
       "    <tr>\n",
       "      <th>2</th>\n",
       "      <td>4.7</td>\n",
       "      <td>3.2</td>\n",
       "      <td>1.3</td>\n",
       "      <td>0.2</td>\n",
       "      <td>Iris-setosa</td>\n",
       "    </tr>\n",
       "    <tr>\n",
       "      <th>3</th>\n",
       "      <td>4.6</td>\n",
       "      <td>3.1</td>\n",
       "      <td>1.5</td>\n",
       "      <td>0.2</td>\n",
       "      <td>Iris-setosa</td>\n",
       "    </tr>\n",
       "    <tr>\n",
       "      <th>4</th>\n",
       "      <td>5.0</td>\n",
       "      <td>3.6</td>\n",
       "      <td>1.4</td>\n",
       "      <td>0.2</td>\n",
       "      <td>Iris-setosa</td>\n",
       "    </tr>\n",
       "  </tbody>\n",
       "</table>\n",
       "</div>"
      ],
      "text/plain": [
       "     0    1    2    3            4\n",
       "0  5.1  3.5  1.4  0.2  Iris-setosa\n",
       "1  4.9  3.0  1.4  0.2  Iris-setosa\n",
       "2  4.7  3.2  1.3  0.2  Iris-setosa\n",
       "3  4.6  3.1  1.5  0.2  Iris-setosa\n",
       "4  5.0  3.6  1.4  0.2  Iris-setosa"
      ]
     },
     "execution_count": 2,
     "metadata": {},
     "output_type": "execute_result"
    }
   ],
   "source": [
    "df = pd.read_csv('iris.csv', header=None)\n",
    "df.head()"
   ]
  },
  {
   "cell_type": "code",
   "execution_count": 3,
   "metadata": {},
   "outputs": [
    {
     "data": {
      "image/png": "[encoded data removed]",
      "text/plain": [
       "<Figure size 432x288 with 1 Axes>"
      ]
     },
     "metadata": {
      "needs_background": "light"
     },
     "output_type": "display_data"
    }
   ],
   "source": [
    "y = df.iloc[0:100,4].values\n",
    "y = np.where(y == 'Iris-setosa', -1, 1)\n",
    "X = df.iloc[0:100,[0,2]].values\n",
    "plt.scatter(X[:50,0], X[:50,1], color='red', marker='o', label='setosa')\n",
    "plt.scatter(X[50:100], X[50:100], color='blue', marker='x', label='versicolor')\n",
    "plt.show()"
   ]
  },
  {
   "cell_type": "code",
   "execution_count": 4,
   "metadata": {},
   "outputs": [],
   "source": [
    "class AdalineGD(object):\n",
    "    \n",
    "    def __init__(self, eta=0.01, n_iter=50):\n",
    "        self.eta = eta\n",
    "        self.n_iter = n_iter\n",
    "    def fit(self, X, y):\n",
    "        self.w_ = np.zeros(1 + X.shape[1])\n",
    "        self.cost_ = []\n",
    "        for i in range(self.n_iter):\n",
    "            output = self.net_input(X)\n",
    "            errors = (y - output)\n",
    "            self.w_[1:] += self.eta * X.T.dot(errors)\n",
    "            self.w_[0] += self.eta * errors.sum()\n",
    "            cost = (errors**2).sum() / 2.0\n",
    "            self.cost_.append(cost)\n",
    "        return self\n",
    "    def net_input(self, X):\n",
    "       \"\"\"Calculate net input\"\"\"\n",
    "       return np.dot(X, self.w_[1:]) + self.w_[0]\n",
    "\n",
    "    def activation(self, X):\n",
    "       \"\"\"Compute linear activation\"\"\"\n",
    "       return self.net_input(X)\n",
    "    def predict(self, X):\n",
    "       \"\"\"Return class label after unit step\"\"\"\n",
    "       return np.where(self.activation(X) >= 0.0, 1, -1)\n"
   ]
  },
  {
   "cell_type": "code",
   "execution_count": 5,
   "metadata": {},
   "outputs": [
    {
     "name": "stderr",
     "output_type": "stream",
     "text": [
      "c:\\program files\\python37\\lib\\site-packages\\ipykernel_launcher.py:14: RuntimeWarning: overflow encountered in square\n",
      "  \n",
      "c:\\program files\\python37\\lib\\site-packages\\numpy\\core\\_methods.py:36: RuntimeWarning: overflow encountered in reduce\n",
      "  return umr_sum(a, axis, dtype, out, keepdims, initial)\n"
     ]
    },
    {
     "data": {
      "image/png": "[encoded data removed]",
      "text/plain": [
       "<Figure size 576x288 with 2 Axes>"
      ]
     },
     "metadata": {
      "needs_background": "light"
     },
     "output_type": "display_data"
    }
   ],
   "source": [
    "fig,ax = plt.subplots(nrows=1,ncols=2,figsize=(8,4))\n",
    "ada1 = AdalineGD(n_iter=100).fit(X,y)\n",
    "ax[0].plot(range(1,len(ada1.cost_) +1),np.log10(ada1.cost_),marker='o')\n",
    "\n",
    "ada2 = AdalineGD(n_iter=100,eta=0.0001).fit(X,y)\n",
    "ax[1].plot(range(1,len(ada2.cost_) +1), (ada2.cost_),marker='x')\n",
    "plt.show()"
   ]
  },
  {
   "cell_type": "markdown",
   "metadata": {},
   "source": [
    "## Bibliografía"
   ]
  },
  {
   "cell_type": "markdown",
   "metadata": {},
   "source": [
    "Cortes, G., & Cordoba, E. (2015). Obtenido de https://prezi.com/j82sylwvm0a5/redes-adaline/\n",
    "\n",
    "Universidad Tecnológica de Pereira. (2000). Obtenido de http://medicinaycomplejidad.org/pdf/redes/Adaline.pdf\n",
    "\n",
    "A Machine Learning Craftsmanship Blog. (2017). Obtenido de https://mllog.github.io/2016/11/04/Python-ML-Chapter-2/"
   ]
  },
  {
   "cell_type": "code",
   "execution_count": null,
   "metadata": {},
   "outputs": [],
   "source": []
  }
 ],
 "metadata": {
  "anaconda-cloud": {},
  "kernelspec": {
   "display_name": "Python 3",
   "language": "python",
   "name": "python3"
  },
  "language_info": {
   "codemirror_mode": {
    "name": "ipython",
    "version": 3
   },
   "file_extension": ".py",
   "mimetype": "text/x-python",
   "name": "python",
   "nbconvert_exporter": "python",
   "pygments_lexer": "ipython3",
   "version": "3.7.3"
  }
 },
 "nbformat": 4,
 "nbformat_minor": 1
}
